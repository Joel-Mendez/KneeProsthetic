{
 "cells": [
  {
   "cell_type": "code",
   "execution_count": 8,
   "metadata": {},
   "outputs": [
    {
     "name": "stdout",
     "output_type": "stream",
     "text": [
      "0       3.740000\n",
      "1       3.848575\n",
      "2       3.957350\n",
      "3       4.066335\n",
      "4       4.175537\n",
      "          ...   \n",
      "996     2.804963\n",
      "997     2.901991\n",
      "998     3.001909\n",
      "999     3.104613\n",
      "1000    3.210000\n",
      "Name: Knee Position [deg], Length: 1001, dtype: float64\n",
      "(1001, 1)\n"
     ]
    }
   ],
   "source": [
    "import matplotlib.pyplot as plt\n",
    "import numpy as np\n",
    "import pandas as pd\n",
    "\n",
    "data = pd.read_csv('kneeData.csv')\n",
    "\n",
    "print(data['Knee Position [deg]'])"
   ]
  },
  {
   "cell_type": "code",
   "execution_count": 27,
   "metadata": {},
   "outputs": [
    {
     "data": {
      "image/png": "[encoded data removed]",
      "text/plain": [
       "<Figure size 432x288 with 1 Axes>"
      ]
     },
     "metadata": {
      "needs_background": "light"
     },
     "output_type": "display_data"
    },
    {
     "name": "stdout",
     "output_type": "stream",
     "text": [
      "[ 2.33144905e-37 -1.78801066e-33  6.15851006e-30 -1.25821505e-26\n",
      "  1.69652811e-23 -1.58959604e-20  1.06158491e-17 -5.10116813e-15\n",
      "  1.75896118e-12 -4.28963848e-10  7.18705865e-08 -7.85904065e-06\n",
      "  5.12642423e-04 -1.74162667e-02  3.61798880e-01  2.88363838e+00]\n"
     ]
    }
   ],
   "source": [
    "p = np.polyfit(range(data.shape[0]), data['Knee Position [deg]'], 15)\n",
    "x = np.arange(data.shape[0])\n",
    "eqn = np.polyval(p,x)\n",
    "\n",
    "\n",
    "plt.figure()\n",
    "plt.plot(x, data['Knee Position [deg]'], label='Data')\n",
    "plt.plot(x, eqn, label='Fit')\n",
    "plt.grid()\n",
    "plt.legend()\n",
    "plt.show()"
   ]
  },
  {
   "cell_type": "code",
   "execution_count": 46,
   "metadata": {},
   "outputs": [],
   "source": [
    "with open('kneePositionEqn.txt', 'w') as f:\n",
    "    for i in range(len(p)):\n",
    "        if i != len(p)-1:\n",
    "#             print(str(p[i]) + '*pow(x,' + str(len(p)-1 - i) +')' + '+'),\n",
    "            f.write('(' + str(p[i]) + '*pow(x,' + str(len(p)-1 - i) +')' + ')+'),\n",
    "        else:\n",
    "#             print(str(p[i]))\n",
    "            f.write(str(p[i]))"
   ]
  },
  {
   "cell_type": "code",
   "execution_count": null,
   "metadata": {},
   "outputs": [],
   "source": []
  },
  {
   "cell_type": "code",
   "execution_count": null,
   "metadata": {},
   "outputs": [],
   "source": []
  }
 ],
 "metadata": {
  "kernelspec": {
   "display_name": "Python 3",
   "language": "python",
   "name": "python3"
  },
  "language_info": {
   "codemirror_mode": {
    "name": "ipython",
    "version": 3
   },
   "file_extension": ".py",
   "mimetype": "text/x-python",
   "name": "python",
   "nbconvert_exporter": "python",
   "pygments_lexer": "ipython3",
   "version": "3.7.4"
  }
 },
 "nbformat": 4,
 "nbformat_minor": 2
}
