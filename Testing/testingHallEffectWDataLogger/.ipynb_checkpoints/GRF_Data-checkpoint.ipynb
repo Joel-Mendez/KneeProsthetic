{
 "cells": [
  {
   "cell_type": "code",
   "execution_count": 80,
   "metadata": {},
   "outputs": [
    {
     "ename": "IndexError",
     "evalue": "index 25677 is out of bounds for axis 0 with size 25677",
     "output_type": "error",
     "traceback": [
      "\u001b[0;31m---------------------------------------------------------------------------\u001b[0m",
      "\u001b[0;31mIndexError\u001b[0m                                Traceback (most recent call last)",
      "\u001b[0;32m<ipython-input-80-65b4c86276bf>\u001b[0m in \u001b[0;36m<module>\u001b[0;34m\u001b[0m\n\u001b[1;32m      6\u001b[0m     \u001b[0;32mfor\u001b[0m \u001b[0mline\u001b[0m \u001b[0;32min\u001b[0m \u001b[0mfilestream\u001b[0m\u001b[0;34m:\u001b[0m\u001b[0;34m\u001b[0m\u001b[0;34m\u001b[0m\u001b[0m\n\u001b[1;32m      7\u001b[0m         \u001b[0mcurrentline\u001b[0m \u001b[0;34m=\u001b[0m \u001b[0mline\u001b[0m\u001b[0;34m.\u001b[0m\u001b[0msplit\u001b[0m\u001b[0;34m(\u001b[0m\u001b[0;34m\",\"\u001b[0m\u001b[0;34m)\u001b[0m\u001b[0;34m\u001b[0m\u001b[0;34m\u001b[0m\u001b[0m\n\u001b[0;32m----> 8\u001b[0;31m         \u001b[0ma0\u001b[0m\u001b[0;34m[\u001b[0m\u001b[0mi\u001b[0m\u001b[0;34m]\u001b[0m \u001b[0;34m=\u001b[0m \u001b[0mcurrentline\u001b[0m\u001b[0;34m[\u001b[0m\u001b[0;36m0\u001b[0m\u001b[0;34m]\u001b[0m\u001b[0;34m\u001b[0m\u001b[0;34m\u001b[0m\u001b[0m\n\u001b[0m\u001b[1;32m      9\u001b[0m         \u001b[0ma1\u001b[0m\u001b[0;34m[\u001b[0m\u001b[0mi\u001b[0m\u001b[0;34m]\u001b[0m \u001b[0;34m=\u001b[0m \u001b[0mcurrentline\u001b[0m\u001b[0;34m[\u001b[0m\u001b[0;36m1\u001b[0m\u001b[0;34m]\u001b[0m\u001b[0;34m\u001b[0m\u001b[0;34m\u001b[0m\u001b[0m\n\u001b[1;32m     10\u001b[0m         \u001b[0ma2\u001b[0m\u001b[0;34m[\u001b[0m\u001b[0mi\u001b[0m\u001b[0;34m]\u001b[0m \u001b[0;34m=\u001b[0m \u001b[0mcurrentline\u001b[0m\u001b[0;34m[\u001b[0m\u001b[0;36m2\u001b[0m\u001b[0;34m]\u001b[0m\u001b[0;34m\u001b[0m\u001b[0;34m\u001b[0m\u001b[0m\n",
      "\u001b[0;31mIndexError\u001b[0m: index 25677 is out of bounds for axis 0 with size 25677"
     ]
    }
   ],
   "source": [
    "import matplotlib.pyplot as plt\n",
    "import numpy as np\n",
    "\n",
    "with open(\"DATALOG.txt\", \"r\") as filestream:\n",
    "    i = 0\n",
    "    for line in filestream:\n",
    "        currentline = line.split(\",\")\n",
    "        a0[i] = currentline[0]\n",
    "        a1[i] = currentline[1]\n",
    "        a2[i] = currentline[2]\n",
    "        i += 1\n",
    "        \n",
    "#data to display\n",
    "zero = 0\n",
    "cutoff = len(a0)\n",
    "noLoadIdx = 700\n",
    "#convert to array and change to volts\n",
    "arr0 = (3.3/8192)*np.array(a0)\n",
    "arr1 = (3.3/8192)*np.array(a1)\n",
    "arr2 = (3.3/8192)*np.array(a2)\n",
    "#shift data\n",
    "arr0 = arr0 - (arr0[noLoadIdx] - arr1[noLoadIdx])\n",
    "arr2 = arr2 - (arr2[noLoadIdx] - arr1[noLoadIdx])\n",
    "\n",
    "plt.figure(num=None, figsize=(8, 6), dpi=240, facecolor='w', edgecolor='k')\n",
    "plt.plot(np.linspace(0, (cutoff-zero), (cutoff-zero)), arr0[zero:cutoff], label = 'Frontal')\n",
    "plt.plot(np.linspace(0, (cutoff-zero), (cutoff-zero)), arr1[zero:cutoff], label = 'Middle')\n",
    "plt.plot(np.linspace(0, (cutoff-zero), (cutoff-zero)), arr2[zero:cutoff], label = 'Backal')\n",
    "plt.legend()\n"
   ]
  },
  {
   "cell_type": "code",
   "execution_count": null,
   "metadata": {},
   "outputs": [],
   "source": []
  },
  {
   "cell_type": "code",
   "execution_count": null,
   "metadata": {},
   "outputs": [],
   "source": []
  }
 ],
 "metadata": {
  "kernelspec": {
   "display_name": "Python 3",
   "language": "python",
   "name": "python3"
  },
  "language_info": {
   "codemirror_mode": {
    "name": "ipython",
    "version": 3
   },
   "file_extension": ".py",
   "mimetype": "text/x-python",
   "name": "python",
   "nbconvert_exporter": "python",
   "pygments_lexer": "ipython3",
   "version": "3.7.3"
  }
 },
 "nbformat": 4,
 "nbformat_minor": 2
}
